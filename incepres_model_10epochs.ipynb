{
 "cells": [
  {
   "cell_type": "code",
   "execution_count": 1,
   "metadata": {},
   "outputs": [],
   "source": [
    "from tensorflow import keras\n",
    "from keras.layers import Conv2D, MaxPooling2D, Concatenate, Input, BatchNormalization, Activation, Add, GlobalAveragePooling2D, Dense"
   ]
  },
  {
   "cell_type": "code",
   "execution_count": 2,
   "metadata": {},
   "outputs": [
    {
     "name": "stdout",
     "output_type": "stream",
     "text": [
      "Found 104000 files belonging to 26 classes.\n",
      "Found 13000 files belonging to 26 classes.\n"
     ]
    }
   ],
   "source": [
    "train_path = 'E:/Final Year Project/Cancer_dataset_all/train'\n",
    "test_path = 'E:/Final Year Project/Cancer_dataset_all/test'\n",
    "val_path = 'E:/Final Year Project/Cancer_dataset_all/val'\n",
    "\n",
    "train_ds = keras.utils.image_dataset_from_directory(\n",
    "    train_path,\n",
    "    batch_size=32,\n",
    "    image_size=(72,72),\n",
    "    shuffle=True\n",
    ")\n",
    "# test_ds = keras.utils.image_dataset_from_directory(\n",
    "#     test_path,\n",
    "#     batch_size=32,\n",
    "#     image_size=(72,72),\n",
    "#     shuffle=False\n",
    "# )\n",
    "val_ds = keras.utils.image_dataset_from_directory(\n",
    "    val_path,\n",
    "    batch_size=32,\n",
    "    image_size=(72,72),\n",
    "    shuffle=True\n",
    ")"
   ]
  },
  {
   "cell_type": "code",
   "execution_count": 3,
   "metadata": {},
   "outputs": [],
   "source": [
    "def inception_block(input_tensor, filters_1x1, filters_3x3_reduce, filters_3x3, filters_5x5_reduce, filters_5x5, filters_pool_proj):\n",
    "    \"\"\"\n",
    "    Creates an Inception block with the following structure:\n",
    "    - 1x1 Convolution\n",
    "    - 1x1 Convolution followed by 3x3 Convolution\n",
    "    - 1x1 Convolution followed by 5x5 Convolution\n",
    "    - 3x3 MaxPooling followed by 1x1 Convolution\n",
    "    All outputs are concatenated along the channel dimension.\n",
    "\n",
    "    Args:\n",
    "    input_tensor: Input tensor.\n",
    "    filters_1x1: Number of filters for the 1x1 convolution.\n",
    "    filters_3x3_reduce: Number of filters for the 1x1 convolution before the 3x3 convolution.\n",
    "    filters_3x3: Number of filters for the 3x3 convolution.\n",
    "    filters_5x5_reduce: Number of filters for the 1x1 convolution before the 5x5 convolution.\n",
    "    filters_5x5: Number of filters for the 5x5 convolution.\n",
    "    filters_pool_proj: Number of filters for the 1x1 convolution after the max pooling.\n",
    "\n",
    "    Returns:\n",
    "    Output tensor after applying the Inception block.\n",
    "    \"\"\"\n",
    "    \n",
    "    # 1x1 Convolution branch\n",
    "    conv_1x1 = Conv2D(filters_1x1, (1, 1), padding='same', activation='relu')(input_tensor)\n",
    "    \n",
    "    # 1x1 Convolution followed by 3x3 Convolution branch\n",
    "    conv_3x3 = Conv2D(filters_3x3_reduce, (1, 1), padding='same', activation='relu')(input_tensor)\n",
    "    conv_3x3 = Conv2D(filters_3x3, (3, 3), padding='same', activation='relu')(conv_3x3)\n",
    "    \n",
    "    # 1x1 Convolution followed by 5x5 Convolution branch\n",
    "    conv_5x5 = Conv2D(filters_5x5_reduce, (1, 1), padding='same', activation='relu')(input_tensor)\n",
    "    conv_5x5 = Conv2D(filters_5x5, (5, 5), padding='same', activation='relu')(conv_5x5)\n",
    "    \n",
    "    # 3x3 MaxPooling followed by 1x1 Convolution branch\n",
    "    pool_proj = MaxPooling2D((3, 3), strides=(1, 1), padding='same')(input_tensor)\n",
    "    pool_proj = Conv2D(filters_pool_proj, (1, 1), padding='same', activation='relu')(pool_proj)\n",
    "    \n",
    "    # Concatenate all the branches\n",
    "    output = Concatenate(axis=-1)([conv_1x1, conv_3x3, conv_5x5, pool_proj])\n",
    "    \n",
    "    return output"
   ]
  },
  {
   "cell_type": "code",
   "execution_count": 4,
   "metadata": {},
   "outputs": [],
   "source": [
    "# input_layer = Input(shape=(224, 224, 3))\n",
    "# incep_output = inception_block(input_layer, filters_1x1=16, filters_3x3_reduce=16, filters_3x3=16, filters_5x5_reduce=8, filters_5x5=16,             filters_pool_proj=16)\n",
    "# model1 = keras.Model(inputs=input_layer, outputs=incep_output)\n",
    "# model1.summary()"
   ]
  },
  {
   "cell_type": "code",
   "execution_count": 5,
   "metadata": {},
   "outputs": [],
   "source": [
    "def residual_block(input_tensor, filters, kernel_size=3, stride=1, use_projection=False):\n",
    "    \"\"\"\n",
    "    Creates a Residual Block with the following structure:\n",
    "    - (Optional) 1x1 Convolution for projection (to match dimensions if needed)\n",
    "    - 2x (Convolution -> BatchNorm -> ReLU)\n",
    "    - Add shortcut connection to the input\n",
    "    \n",
    "    Args:\n",
    "    input_tensor: Input tensor.\n",
    "    filters: Number of filters for the convolutional layers.\n",
    "    kernel_size: Size of the convolution kernel.\n",
    "    stride: Stride of the first convolution. Usually 1, but can be set to 2 for downsampling.\n",
    "    use_projection: If True, a 1x1 convolution is used on the shortcut path to match dimensions.\n",
    "    \n",
    "    Returns:\n",
    "    Output tensor after applying the Residual Block.\n",
    "    \"\"\"\n",
    "    \n",
    "    # Shortcut connection (identity)\n",
    "    shortcut = input_tensor\n",
    "\n",
    "    # First Convolution layer\n",
    "    x = Conv2D(filters, kernel_size, strides=stride, padding='same', use_bias=False)(input_tensor)\n",
    "    x = BatchNormalization()(x)\n",
    "    x = Activation('relu')(x)\n",
    "    \n",
    "    # Second Convolution layer\n",
    "    x = Conv2D(filters, kernel_size, strides=1, padding='same', use_bias=False)(x)\n",
    "    x = BatchNormalization()(x)\n",
    "    \n",
    "    # If use_projection is True, apply a 1x1 convolution to match dimensions\n",
    "    if use_projection:\n",
    "        shortcut = Conv2D(filters, (1, 1), strides=stride, padding='same', use_bias=False)(input_tensor)\n",
    "        shortcut = BatchNormalization()(shortcut)\n",
    "    \n",
    "    # Add the shortcut to the output\n",
    "    x = Add()([x, shortcut])\n",
    "    x = Activation('relu')(x)\n",
    "    \n",
    "    return x\n"
   ]
  },
  {
   "cell_type": "code",
   "execution_count": 6,
   "metadata": {},
   "outputs": [
    {
     "name": "stdout",
     "output_type": "stream",
     "text": [
      "Model: \"model\"\n",
      "__________________________________________________________________________________________________\n",
      " Layer (type)                   Output Shape         Param #     Connected to                     \n",
      "==================================================================================================\n",
      " input_1 (InputLayer)           [(None, 72, 72, 3)]  0           []                               \n",
      "                                                                                                  \n",
      " conv2d (Conv2D)                (None, 72, 72, 64)   256         ['input_1[0][0]']                \n",
      "                                                                                                  \n",
      " conv2d_1 (Conv2D)              (None, 72, 72, 64)   36864       ['conv2d[0][0]']                 \n",
      "                                                                                                  \n",
      " batch_normalization (BatchNorm  (None, 72, 72, 64)  256         ['conv2d_1[0][0]']               \n",
      " alization)                                                                                       \n",
      "                                                                                                  \n",
      " activation (Activation)        (None, 72, 72, 64)   0           ['batch_normalization[0][0]']    \n",
      "                                                                                                  \n",
      " conv2d_2 (Conv2D)              (None, 72, 72, 64)   36864       ['activation[0][0]']             \n",
      "                                                                                                  \n",
      " batch_normalization_1 (BatchNo  (None, 72, 72, 64)  256         ['conv2d_2[0][0]']               \n",
      " rmalization)                                                                                     \n",
      "                                                                                                  \n",
      " conv2d_4 (Conv2D)              (None, 72, 72, 16)   1040        ['conv2d[0][0]']                 \n",
      "                                                                                                  \n",
      " conv2d_6 (Conv2D)              (None, 72, 72, 8)    520         ['conv2d[0][0]']                 \n",
      "                                                                                                  \n",
      " max_pooling2d (MaxPooling2D)   (None, 72, 72, 64)   0           ['conv2d[0][0]']                 \n",
      "                                                                                                  \n",
      " add (Add)                      (None, 72, 72, 64)   0           ['batch_normalization_1[0][0]',  \n",
      "                                                                  'conv2d[0][0]']                 \n",
      "                                                                                                  \n",
      " conv2d_3 (Conv2D)              (None, 72, 72, 16)   1040        ['conv2d[0][0]']                 \n",
      "                                                                                                  \n",
      " conv2d_5 (Conv2D)              (None, 72, 72, 16)   2320        ['conv2d_4[0][0]']               \n",
      "                                                                                                  \n",
      " conv2d_7 (Conv2D)              (None, 72, 72, 16)   3216        ['conv2d_6[0][0]']               \n",
      "                                                                                                  \n",
      " conv2d_8 (Conv2D)              (None, 72, 72, 16)   1040        ['max_pooling2d[0][0]']          \n",
      "                                                                                                  \n",
      " activation_1 (Activation)      (None, 72, 72, 64)   0           ['add[0][0]']                    \n",
      "                                                                                                  \n",
      " concatenate (Concatenate)      (None, 72, 72, 64)   0           ['conv2d_3[0][0]',               \n",
      "                                                                  'conv2d_5[0][0]',               \n",
      "                                                                  'conv2d_7[0][0]',               \n",
      "                                                                  'conv2d_8[0][0]']               \n",
      "                                                                                                  \n",
      " add_1 (Add)                    (None, 72, 72, 64)   0           ['activation_1[0][0]',           \n",
      "                                                                  'concatenate[0][0]']            \n",
      "                                                                                                  \n",
      " add_2 (Add)                    (None, 72, 72, 64)   0           ['conv2d[0][0]',                 \n",
      "                                                                  'add_1[0][0]']                  \n",
      "                                                                                                  \n",
      " conv2d_9 (Conv2D)              (None, 72, 72, 128)  73728       ['add_2[0][0]']                  \n",
      "                                                                                                  \n",
      " batch_normalization_2 (BatchNo  (None, 72, 72, 128)  512        ['conv2d_9[0][0]']               \n",
      " rmalization)                                                                                     \n",
      "                                                                                                  \n",
      " activation_2 (Activation)      (None, 72, 72, 128)  0           ['batch_normalization_2[0][0]']  \n",
      "                                                                                                  \n",
      " conv2d_10 (Conv2D)             (None, 72, 72, 128)  147456      ['activation_2[0][0]']           \n",
      "                                                                                                  \n",
      " conv2d_11 (Conv2D)             (None, 72, 72, 128)  8192        ['add_2[0][0]']                  \n",
      "                                                                                                  \n",
      " batch_normalization_3 (BatchNo  (None, 72, 72, 128)  512        ['conv2d_10[0][0]']              \n",
      " rmalization)                                                                                     \n",
      "                                                                                                  \n",
      " batch_normalization_4 (BatchNo  (None, 72, 72, 128)  512        ['conv2d_11[0][0]']              \n",
      " rmalization)                                                                                     \n",
      "                                                                                                  \n",
      " conv2d_13 (Conv2D)             (None, 72, 72, 32)   2080        ['add_2[0][0]']                  \n",
      "                                                                                                  \n",
      " conv2d_15 (Conv2D)             (None, 72, 72, 16)   1040        ['add_2[0][0]']                  \n",
      "                                                                                                  \n",
      " max_pooling2d_1 (MaxPooling2D)  (None, 72, 72, 64)  0           ['add_2[0][0]']                  \n",
      "                                                                                                  \n",
      " add_3 (Add)                    (None, 72, 72, 128)  0           ['batch_normalization_3[0][0]',  \n",
      "                                                                  'batch_normalization_4[0][0]']  \n",
      "                                                                                                  \n",
      " conv2d_12 (Conv2D)             (None, 72, 72, 32)   2080        ['add_2[0][0]']                  \n",
      "                                                                                                  \n",
      " conv2d_14 (Conv2D)             (None, 72, 72, 32)   9248        ['conv2d_13[0][0]']              \n",
      "                                                                                                  \n",
      " conv2d_16 (Conv2D)             (None, 72, 72, 32)   12832       ['conv2d_15[0][0]']              \n",
      "                                                                                                  \n",
      " conv2d_17 (Conv2D)             (None, 72, 72, 32)   2080        ['max_pooling2d_1[0][0]']        \n",
      "                                                                                                  \n",
      " activation_3 (Activation)      (None, 72, 72, 128)  0           ['add_3[0][0]']                  \n",
      "                                                                                                  \n",
      " concatenate_1 (Concatenate)    (None, 72, 72, 128)  0           ['conv2d_12[0][0]',              \n",
      "                                                                  'conv2d_14[0][0]',              \n",
      "                                                                  'conv2d_16[0][0]',              \n",
      "                                                                  'conv2d_17[0][0]']              \n",
      "                                                                                                  \n",
      " conv2d_18 (Conv2D)             (None, 72, 72, 128)  8320        ['add_2[0][0]']                  \n",
      "                                                                                                  \n",
      " add_4 (Add)                    (None, 72, 72, 128)  0           ['activation_3[0][0]',           \n",
      "                                                                  'concatenate_1[0][0]']          \n",
      "                                                                                                  \n",
      " add_5 (Add)                    (None, 72, 72, 128)  0           ['conv2d_18[0][0]',              \n",
      "                                                                  'add_4[0][0]']                  \n",
      "                                                                                                  \n",
      " conv2d_19 (Conv2D)             (None, 72, 72, 256)  294912      ['add_5[0][0]']                  \n",
      "                                                                                                  \n",
      " batch_normalization_5 (BatchNo  (None, 72, 72, 256)  1024       ['conv2d_19[0][0]']              \n",
      " rmalization)                                                                                     \n",
      "                                                                                                  \n",
      " activation_4 (Activation)      (None, 72, 72, 256)  0           ['batch_normalization_5[0][0]']  \n",
      "                                                                                                  \n",
      " conv2d_20 (Conv2D)             (None, 72, 72, 256)  589824      ['activation_4[0][0]']           \n",
      "                                                                                                  \n",
      " conv2d_21 (Conv2D)             (None, 72, 72, 256)  32768       ['add_5[0][0]']                  \n",
      "                                                                                                  \n",
      " batch_normalization_6 (BatchNo  (None, 72, 72, 256)  1024       ['conv2d_20[0][0]']              \n",
      " rmalization)                                                                                     \n",
      "                                                                                                  \n",
      " batch_normalization_7 (BatchNo  (None, 72, 72, 256)  1024       ['conv2d_21[0][0]']              \n",
      " rmalization)                                                                                     \n",
      "                                                                                                  \n",
      " conv2d_23 (Conv2D)             (None, 72, 72, 64)   8256        ['add_5[0][0]']                  \n",
      "                                                                                                  \n",
      " conv2d_25 (Conv2D)             (None, 72, 72, 16)   2064        ['add_5[0][0]']                  \n",
      "                                                                                                  \n",
      " max_pooling2d_2 (MaxPooling2D)  (None, 72, 72, 128)  0          ['add_5[0][0]']                  \n",
      "                                                                                                  \n",
      " add_6 (Add)                    (None, 72, 72, 256)  0           ['batch_normalization_6[0][0]',  \n",
      "                                                                  'batch_normalization_7[0][0]']  \n",
      "                                                                                                  \n",
      " conv2d_22 (Conv2D)             (None, 72, 72, 64)   8256        ['add_5[0][0]']                  \n",
      "                                                                                                  \n",
      " conv2d_24 (Conv2D)             (None, 72, 72, 64)   36928       ['conv2d_23[0][0]']              \n",
      "                                                                                                  \n",
      " conv2d_26 (Conv2D)             (None, 72, 72, 64)   25664       ['conv2d_25[0][0]']              \n",
      "                                                                                                  \n",
      " conv2d_27 (Conv2D)             (None, 72, 72, 64)   8256        ['max_pooling2d_2[0][0]']        \n",
      "                                                                                                  \n",
      " activation_5 (Activation)      (None, 72, 72, 256)  0           ['add_6[0][0]']                  \n",
      "                                                                                                  \n",
      " concatenate_2 (Concatenate)    (None, 72, 72, 256)  0           ['conv2d_22[0][0]',              \n",
      "                                                                  'conv2d_24[0][0]',              \n",
      "                                                                  'conv2d_26[0][0]',              \n",
      "                                                                  'conv2d_27[0][0]']              \n",
      "                                                                                                  \n",
      " conv2d_28 (Conv2D)             (None, 72, 72, 256)  33024       ['add_5[0][0]']                  \n",
      "                                                                                                  \n",
      " add_7 (Add)                    (None, 72, 72, 256)  0           ['activation_5[0][0]',           \n",
      "                                                                  'concatenate_2[0][0]']          \n",
      "                                                                                                  \n",
      " add_8 (Add)                    (None, 72, 72, 256)  0           ['conv2d_28[0][0]',              \n",
      "                                                                  'add_7[0][0]']                  \n",
      "                                                                                                  \n",
      " global_average_pooling2d (Glob  (None, 256)         0           ['add_8[0][0]']                  \n",
      " alAveragePooling2D)                                                                              \n",
      "                                                                                                  \n",
      " dense (Dense)                  (None, 128)          32896       ['global_average_pooling2d[0][0]'\n",
      "                                                                 ]                                \n",
      "                                                                                                  \n",
      " dense_1 (Dense)                (None, 26)           3354        ['dense[0][0]']                  \n",
      "                                                                                                  \n",
      "==================================================================================================\n",
      "Total params: 1,431,538\n",
      "Trainable params: 1,428,978\n",
      "Non-trainable params: 2,560\n",
      "__________________________________________________________________________________________________\n"
     ]
    }
   ],
   "source": [
    "def hybrid_model(input_shape, num_classes):\n",
    "    inputs = Input(shape=input_shape)\n",
    "    \n",
    "    x = prev = Conv2D(64, (1, 1), padding='same', activation='relu')(inputs)\n",
    "    \n",
    "    x1 = residual_block(x, filters=64, stride=1, use_projection=False)\n",
    "    x2 = inception_block(x, filters_1x1=16, filters_3x3_reduce=16, filters_3x3=16, filters_5x5_reduce=8, filters_5x5=16, filters_pool_proj=16)\n",
    "    x = Add()([x1, x2])\n",
    "    \n",
    "    x = prev = Add()([prev, x])\n",
    "    \n",
    "    \n",
    "    \n",
    "    x1 = residual_block(x, filters=128, stride=1, use_projection=True)\n",
    "    x2 = inception_block(x, filters_1x1=32, filters_3x3_reduce=32, filters_3x3=32, filters_5x5_reduce=16, filters_5x5=32, filters_pool_proj=32)\n",
    "    x = Add()([x1, x2])\n",
    "    \n",
    "    prev = Conv2D(128, (1, 1), padding='same', activation='relu')(prev)\n",
    "    x = prev = Add()([prev, x])\n",
    "    \n",
    "    x1 = residual_block(x, filters=256, stride=1, use_projection=True)\n",
    "    x2 = inception_block(x, filters_1x1=64, filters_3x3_reduce=64, filters_3x3=64, filters_5x5_reduce=16, filters_5x5=64, filters_pool_proj=64)\n",
    "    x = Add()([x1, x2])\n",
    "    \n",
    "    prev = Conv2D(256, (1, 1), padding='same', activation='relu')(prev)\n",
    "    x = prev = Add()([prev, x])\n",
    "    \n",
    "    x = GlobalAveragePooling2D()(x)\n",
    "    x = Dense(128, activation='relu')(x)\n",
    "    outputs = Dense(num_classes, activation='softmax')(x)\n",
    "    model = keras.Model(inputs, outputs)\n",
    "    \n",
    "    return model\n",
    "\n",
    "model = hybrid_model((72, 72, 3), 26)\n",
    "model.summary()"
   ]
  },
  {
   "cell_type": "code",
   "execution_count": 7,
   "metadata": {},
   "outputs": [],
   "source": [
    "model.compile(optimizer='adam', loss='sparse_categorical_crossentropy', metrics=['accuracy'])"
   ]
  },
  {
   "cell_type": "code",
   "execution_count": 8,
   "metadata": {},
   "outputs": [
    {
     "name": "stdout",
     "output_type": "stream",
     "text": [
      "Epoch 1/10\n",
      "3250/3250 [==============================] - 911s 269ms/step - loss: 1.2019 - accuracy: 0.7180 - val_loss: 0.4894 - val_accuracy: 0.8105\n",
      "Epoch 2/10\n",
      "3250/3250 [==============================] - 859s 264ms/step - loss: 0.3721 - accuracy: 0.8572 - val_loss: 0.2997 - val_accuracy: 0.8773\n",
      "Epoch 3/10\n",
      "3250/3250 [==============================] - 855s 263ms/step - loss: 0.2652 - accuracy: 0.8972 - val_loss: 0.3662 - val_accuracy: 0.8618\n",
      "Epoch 4/10\n",
      "3250/3250 [==============================] - 857s 264ms/step - loss: 0.2070 - accuracy: 0.9206 - val_loss: 0.2451 - val_accuracy: 0.9060\n",
      "Epoch 5/10\n",
      "3250/3250 [==============================] - 853s 263ms/step - loss: 0.1678 - accuracy: 0.9351 - val_loss: 0.1587 - val_accuracy: 0.9413\n",
      "Epoch 6/10\n",
      "3250/3250 [==============================] - 857s 264ms/step - loss: 0.1426 - accuracy: 0.9453 - val_loss: 0.1059 - val_accuracy: 0.9595\n",
      "Epoch 7/10\n",
      "3250/3250 [==============================] - 858s 264ms/step - loss: 0.1224 - accuracy: 0.9530 - val_loss: 0.1142 - val_accuracy: 0.9582\n",
      "Epoch 8/10\n",
      "3250/3250 [==============================] - 968s 298ms/step - loss: 0.1100 - accuracy: 0.9579 - val_loss: 0.1718 - val_accuracy: 0.9392\n",
      "Epoch 9/10\n",
      "3250/3250 [==============================] - 1580s 486ms/step - loss: 0.0988 - accuracy: 0.9628 - val_loss: 0.1335 - val_accuracy: 0.9505\n",
      "Epoch 10/10\n",
      "3250/3250 [==============================] - 905s 278ms/step - loss: 0.0922 - accuracy: 0.9659 - val_loss: 0.1105 - val_accuracy: 0.9575\n"
     ]
    }
   ],
   "source": [
    "history = model.fit(train_ds, epochs=10, batch_size=32, validation_data=val_ds)"
   ]
  },
  {
   "cell_type": "code",
   "execution_count": 10,
   "metadata": {},
   "outputs": [],
   "source": [
    "model.save('incep-res__26class_2dec2024.h5')"
   ]
  },
  {
   "cell_type": "code",
   "execution_count": null,
   "metadata": {},
   "outputs": [
    {
     "data": {
      "image/png": "[encoded data removed]",
      "text/plain": [
       "<Figure size 700x400 with 1 Axes>"
      ]
     },
     "metadata": {},
     "output_type": "display_data"
    }
   ],
   "source": [
    "import matplotlib.pyplot as plt\n",
    "import seaborn as sn\n",
    "\n",
    "plt.figure(figsize=(7,4))\n",
    "sn.lineplot(x=range(10), y=history.history['accuracy'], label='Training Accuracy')\n",
    "sn.lineplot(x=range(10), y=history.history['val_accuracy'], label='Validation Accuracy')\n",
    "plt.xlabel('Epochs', fontsize=14)\n",
    "plt.ylabel('Accuracy', fontsize=14)\n",
    "plt.xticks(fontsize=12)\n",
    "plt.yticks(fontsize=12)\n",
    "plt.legend(fontsize=12)\n",
    "plt.show()"
   ]
  },
  {
   "cell_type": "code",
   "execution_count": null,
   "metadata": {},
   "outputs": [
    {
     "data": {
      "image/png": "[encoded data removed]",
      "text/plain": [
       "<Figure size 700x400 with 1 Axes>"
      ]
     },
     "metadata": {},
     "output_type": "display_data"
    }
   ],
   "source": [
    "plt.figure(figsize=(7,4))\n",
    "sn.lineplot(x=range(10), y=history.history['loss'], label='Training Loss')\n",
    "sn.lineplot(x=range(10), y=history.history['val_loss'], label='Validation Loss')\n",
    "plt.xlabel('Epochs', fontsize=14)\n",
    "plt.ylabel('Accuracy', fontsize=14)\n",
    "plt.xticks(fontsize=12)\n",
    "plt.yticks(fontsize=12)\n",
    "plt.legend(fontsize=12)\n",
    "plt.show()"
   ]
  },
  {
   "cell_type": "code",
   "execution_count": null,
   "metadata": {},
   "outputs": [],
   "source": []
  },
  {
   "cell_type": "code",
   "execution_count": 12,
   "metadata": {},
   "outputs": [
    {
     "name": "stdout",
     "output_type": "stream",
     "text": [
      "Found 13000 files belonging to 26 classes.\n"
     ]
    }
   ],
   "source": [
    "test_ds = keras.utils.image_dataset_from_directory(\n",
    "    test_path,\n",
    "    batch_size=32,\n",
    "    image_size=(72,72),\n",
    "    shuffle=False\n",
    ")"
   ]
  },
  {
   "cell_type": "code",
   "execution_count": 13,
   "metadata": {},
   "outputs": [
    {
     "name": "stdout",
     "output_type": "stream",
     "text": [
      "407/407 [==============================] - 39s 94ms/step - loss: 0.1152 - accuracy: 0.9582\n"
     ]
    },
    {
     "data": {
      "text/plain": [
       "[0.11521929502487183, 0.9581538438796997]"
      ]
     },
     "execution_count": 13,
     "metadata": {},
     "output_type": "execute_result"
    }
   ],
   "source": [
    "model.evaluate(test_ds)"
   ]
  }
 ],
 "metadata": {
  "kernelspec": {
   "display_name": "tf",
   "language": "python",
   "name": "python3"
  },
  "language_info": {
   "codemirror_mode": {
    "name": "ipython",
    "version": 3
   },
   "file_extension": ".py",
   "mimetype": "text/x-python",
   "name": "python",
   "nbconvert_exporter": "python",
   "pygments_lexer": "ipython3",
   "version": "3.10.14"
  }
 },
 "nbformat": 4,
 "nbformat_minor": 2
}
